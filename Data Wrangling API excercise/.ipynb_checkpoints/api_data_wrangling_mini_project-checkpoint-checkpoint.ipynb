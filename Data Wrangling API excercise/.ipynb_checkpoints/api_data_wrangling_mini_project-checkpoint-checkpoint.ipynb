{
 "cells": [
  {
   "cell_type": "markdown",
   "metadata": {},
   "source": [
    "This exercise will require you to pull some data from the Qunadl API. Qaundl is currently the most widely used aggregator of financial market data."
   ]
  },
  {
   "cell_type": "markdown",
   "metadata": {},
   "source": [
    "As a first step, you will need to register a free account on the http://www.quandl.com website."
   ]
  },
  {
   "cell_type": "markdown",
   "metadata": {},
   "source": [
    "After you register, you will be provided with a unique API key, that you should store:"
   ]
  },
  {
   "cell_type": "code",
   "execution_count": 1,
   "metadata": {},
   "outputs": [],
   "source": [
    "# Store the API key as a string - according to PEP8, constants are always named in all upper case\n",
    "API_KEY = ''"
   ]
  },
  {
   "cell_type": "markdown",
   "metadata": {},
   "source": [
    "Qaundl has a large number of data sources, but, unfortunately, most of them require a Premium subscription. Still, there are also a good number of free datasets."
   ]
  },
  {
   "cell_type": "markdown",
   "metadata": {},
   "source": [
    "For this mini project, we will focus on equities data from the Frankfurt Stock Exhange (FSE), which is available for free. We'll try and analyze the stock prices of a company called Carl Zeiss Meditec, which manufactures tools for eye examinations, as well as medical lasers for laser eye surgery: https://www.zeiss.com/meditec/int/home.html. The company is listed under the stock ticker AFX_X."
   ]
  },
  {
   "cell_type": "markdown",
   "metadata": {},
   "source": [
    "You can find the detailed Quandl API instructions here: https://docs.quandl.com/docs/time-series"
   ]
  },
  {
   "cell_type": "markdown",
   "metadata": {},
   "source": [
    "While there is a dedicated Python package for connecting to the Quandl API, we would prefer that you use the *requests* package, which can be easily downloaded using *pip* or *conda*. You can find the documentation for the package here: http://docs.python-requests.org/en/master/ "
   ]
  },
  {
   "cell_type": "markdown",
   "metadata": {},
   "source": [
    "Finally, apart from the *requests* package, you are encouraged to not use any third party Python packages, such as *pandas*, and instead focus on what's available in the Python Standard Library (the *collections* module might come in handy: https://pymotw.com/3/collections/ ).\n",
    "Also, since you won't have access to DataFrames, you are encouraged to us Python's native data structures - preferably dictionaries, though some questions can also be answered using lists.\n",
    "You can read more on these data structures here: https://docs.python.org/3/tutorial/datastructures.html"
   ]
  },
  {
   "cell_type": "markdown",
   "metadata": {},
   "source": [
    "Keep in mind that the JSON responses you will be getting from the API map almost one-to-one to Python's dictionaries. Unfortunately, they can be very nested, so make sure you read up on indexing dictionaries in the documentation provided above."
   ]
  },
  {
   "cell_type": "code",
   "execution_count": 2,
   "metadata": {},
   "outputs": [],
   "source": [
    "# First, import the relevant modules\n",
    "import requests"
   ]
  },
  {
   "cell_type": "code",
   "execution_count": 3,
   "metadata": {},
   "outputs": [],
   "source": [
    "# Now, call the Quandl API and pull out a small sample of the data (only one day) to get a glimpse\n",
    "# into the JSON structure that will be returned\n",
    "url = \"https://www.quandl.com/api/v3/datasets/FSE/AFX_X/data.json?&limit=1&api_key=\" + API_KEY\n",
    "req = requests.get(url)"
   ]
  },
  {
   "cell_type": "code",
   "execution_count": null,
   "metadata": {},
   "outputs": [],
   "source": [
    "# Inspect the JSON structure of the object you created, and take note of how nested it is,\n",
    "# as well as the overall structure\n",
    "print(req.json())"
   ]
  },
  {
   "cell_type": "markdown",
   "metadata": {},
   "source": [
    "These are your tasks for this mini project:\n",
    "\n",
    "1. Collect data from the Franfurt Stock Exchange, for the ticker AFX_X, for the whole year 2017 (keep in mind that the date format is YYYY-MM-DD).\n",
    "2. Convert the returned JSON object into a Python dictionary.\n",
    "3. Calculate what the highest and lowest opening prices were for the stock in this period.\n",
    "4. What was the largest change in any one day (based on High and Low price)?\n",
    "5. What was the largest change between any two days (based on Closing Price)?\n",
    "6. What was the average daily trading volume during this year?\n",
    "7. (Optional) What was the median trading volume during this year. (Note: you may need to implement your own function for calculating the median.)"
   ]
  },
  {
   "cell_type": "code",
   "execution_count": null,
   "metadata": {},
   "outputs": [],
   "source": [
    "#1. Collect data from the Franfurt Stock Exchange, for the ticker AFX_X, for the whole year 2017 \n",
    "#(keep in mind that the date format is YYYY-MM-DD).\n",
    "url = \"https://www.quandl.com/api/v3/datasets/FSE/AFX_X/data.json?\" + \\\n",
    "      \"&start_date=2017-01-01&end_date=2017-12-31&api_key=\" + API_KEY\n",
    "req = requests.get(url)\n",
    "req.text"
   ]
  },
  {
   "cell_type": "code",
   "execution_count": 6,
   "metadata": {},
   "outputs": [],
   "source": [
    "#2. Convert the returned JSON object into a Python dictionary.\n",
    "req_dict = req.json()"
   ]
  },
  {
   "cell_type": "code",
   "execution_count": 7,
   "metadata": {},
   "outputs": [
    {
     "name": "stdout",
     "output_type": "stream",
     "text": [
      "highest opening price was: $53.11 on 2017-12-14\n",
      "Lowest opening price was: $34.0 on 2017-01-24\n"
     ]
    }
   ],
   "source": [
    "#3. Calculate what the highest and lowest opening prices were for the stock in this period.\n",
    "req_dict_data = req_dict[\"dataset_data\"][\"data\"]\n",
    "open_max = float(\"-inf\")\n",
    "open_min = float(\"inf\")\n",
    "for row in req_dict_data:\n",
    "    if row[1]!= None:\n",
    "        if row[1]>open_max:\n",
    "            open_max = row[1]\n",
    "            open_max_date = row[0]\n",
    "        if row[1]<open_min:\n",
    "            open_min = row[1]\n",
    "            open_min_date = row[0]\n",
    "print(\"highest opening price was: $\" + str(open_max) + \" on \" + str(open_max_date))\n",
    "print(\"Lowest opening price was: $\" + str(open_min) + \" on \" + str(open_min_date))"
   ]
  },
  {
   "cell_type": "code",
   "execution_count": 8,
   "metadata": {},
   "outputs": [
    {
     "name": "stdout",
     "output_type": "stream",
     "text": [
      "largest change was Δ$2.81 on 2017-05-11.\n"
     ]
    }
   ],
   "source": [
    "#4. What was the largest change in any one day (based on High and Low price)?\n",
    "largest_change = float(\"-inf\")\n",
    "for row in req_dict_data:\n",
    "    diff = row[2] - row[3]\n",
    "    if diff > largest_change:\n",
    "        largest_change = diff\n",
    "        day = row[0]\n",
    "print(\"largest change was {1}${0:.2f} on {2}.\".format(round(largest_change, 2),u'\\u0394', day))"
   ]
  },
  {
   "cell_type": "code",
   "execution_count": 9,
   "metadata": {},
   "outputs": [
    {
     "name": "stdout",
     "output_type": "stream",
     "text": [
      "The largest change between any 2 days was Δ$2.56 on 2017-08-08\n"
     ]
    }
   ],
   "source": [
    "#5. What was the largest change between any two days (based on Closing Price)?\n",
    "closed_max_change = float(\"-inf\")\n",
    "closed_prev = req_dict_data[0][4]\n",
    "for row in req_dict_data[1:]:\n",
    "    closed = row[4]\n",
    "    closed_diff = abs(closed_prev - closed)\n",
    "    closed_prev = closed\n",
    "    if closed_diff > closed_max_change:\n",
    "        closed_max_change = closed_diff\n",
    "        day = row[0]\n",
    "print(\"The largest change between any 2 days was {1}${0:.2f} on {2}\".format(round(closed_max_change,2),u'\\u0394',day))        "
   ]
  },
  {
   "cell_type": "code",
   "execution_count": 10,
   "metadata": {},
   "outputs": [
    {
     "name": "stdout",
     "output_type": "stream",
     "text": [
      "The average daily trading volume during 2017 was $89,124.34\n"
     ]
    }
   ],
   "source": [
    "#6. What was the average daily trading volume during this year?\n",
    "traded_vol_sum = 0\n",
    "count = 0\n",
    "for row in req_dict_data:\n",
    "    traded_vol_sum += row[6]\n",
    "    count += 1\n",
    "\n",
    "avg_trading_vol = traded_vol_sum/count\n",
    "print(\"The average daily trading volume during 2017 was ${0:,}\".format(round(avg_trading_vol,2)))"
   ]
  },
  {
   "cell_type": "code",
   "execution_count": 11,
   "metadata": {},
   "outputs": [
    {
     "name": "stdout",
     "output_type": "stream",
     "text": [
      "The median trading volume was 76,286.0.\n"
     ]
    }
   ],
   "source": [
    "#7. (Optional) What was the median trading volume during this year. \n",
    "#(Note: you may need to implement your own function for calculating the median.)\n",
    "trading_volume = [row[6] for row in req_dict_data]\n",
    "vol_sorted = sorted(trading_volume)\n",
    "\n",
    "if len(trading_volume) % 2 != 0:\n",
    "    vol_median = vol_sorted[len(trading_volume) // 2]\n",
    "else:\n",
    "    vol_median = (vol_sorted[len(trading_volume) // 2 - 1] + vol_sorted[len(trading_volume) // 2]) / 2\n",
    "\n",
    "print(\"The median trading volume was {0:,}.\".format(round(vol_median, 1)))"
   ]
  }
 ],
 "metadata": {
  "kernelspec": {
   "display_name": "Python 3",
   "language": "python",
   "name": "python3"
  },
  "language_info": {
   "codemirror_mode": {
    "name": "ipython",
    "version": 3
   },
   "file_extension": ".py",
   "mimetype": "text/x-python",
   "name": "python",
   "nbconvert_exporter": "python",
   "pygments_lexer": "ipython3",
   "version": "3.6.5"
  }
 },
 "nbformat": 4,
 "nbformat_minor": 2
}
